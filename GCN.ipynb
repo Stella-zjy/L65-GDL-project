{
 "cells": [
  {
   "cell_type": "code",
   "execution_count": 6,
   "metadata": {},
   "outputs": [],
   "source": [
    "# ! pip install torch_geometric"
   ]
  },
  {
   "cell_type": "code",
   "execution_count": 7,
   "metadata": {},
   "outputs": [],
   "source": [
    "import os\n",
    "import torch\n",
    "import torch.nn.functional as F\n",
    "from torch_geometric.nn import DenseGCNConv, dense_diff_pool\n",
    "import numpy as np\n",
    "import pandas as pd\n",
    "import matplotlib.pyplot as plt\n",
    "import pickle\n",
    "import networkx as nx\n",
    "import sys\n",
    "\n",
    "from torch_geometric.datasets import Entities, TUDataset\n",
    "from torch_geometric.loader import DataLoader\n",
    "from torch_geometric.utils import to_dense_adj\n",
    "\n",
    "\n",
    "from utils import *\n",
    "from model import *"
   ]
  },
  {
   "cell_type": "code",
   "execution_count": 16,
   "metadata": {},
   "outputs": [
    {
     "name": "stdout",
     "output_type": "stream",
     "text": [
      "\n",
      "Dataset: Mutagenicity(4337):\n",
      "====================\n",
      "Number of graphs: 4337\n",
      "Number of features: 14\n",
      "Number of classes: 2\n",
      "\n",
      "Data(edge_index=[2, 32], x=[16, 14], edge_attr=[32, 3], y=[1])\n",
      "=============================================================\n",
      "Number of nodes: 16\n",
      "Number of edges: 32\n",
      "Average node degree: 2.00\n",
      "Has isolated nodes: False\n",
      "Has self-loops: False\n",
      "Is undirected: True\n"
     ]
    }
   ],
   "source": [
    "# Load Dataset\n",
    "# dataset = Entities(root='data/Entities', name='MUTAG')\n",
    "# dataset = TUDataset(root='data/TUDataset', name='MUTAG')\n",
    "dataset = TUDataset(root='data/TUDataset', name='Mutagenicity')\n",
    "\n",
    "print()\n",
    "print(f'Dataset: {dataset}:')\n",
    "print('====================')\n",
    "print(f'Number of graphs: {len(dataset)}')\n",
    "print(f'Number of features: {dataset.num_features}')\n",
    "print(f'Number of classes: {dataset.num_classes}')\n",
    "\n",
    "data = dataset[0]  # Get the first graph object.\n",
    "\n",
    "print()\n",
    "print(data)\n",
    "print('=============================================================')\n",
    "\n",
    "# Gather some statistics about the first graph.\n",
    "print(f'Number of nodes: {data.num_nodes}')\n",
    "print(f'Number of edges: {data.num_edges}')\n",
    "print(f'Average node degree: {data.num_edges / data.num_nodes:.2f}')\n",
    "print(f'Has isolated nodes: {data.has_isolated_nodes()}')\n",
    "print(f'Has self-loops: {data.has_self_loops()}')\n",
    "print(f'Is undirected: {data.is_undirected()}')"
   ]
  },
  {
   "cell_type": "code",
   "execution_count": 17,
   "metadata": {},
   "outputs": [
    {
     "name": "stdout",
     "output_type": "stream",
     "text": [
      "\n",
      "Class split - Training 0: 1901 1: 1568, Test 0: 500 1: 368\n"
     ]
    }
   ],
   "source": [
    "torch.manual_seed(12345)\n",
    "\n",
    "# Train test split\n",
    "train_split = 0.8\n",
    "batch_size = 16\n",
    "train_loader, test_loader = prepare_data(dataset, train_split, batch_size)"
   ]
  },
  {
   "cell_type": "code",
   "execution_count": 19,
   "metadata": {},
   "outputs": [],
   "source": [
    "def train(model, loader, optimizer, criterion):\n",
    "    model.train()\n",
    "    total_loss = 0\n",
    "\n",
    "    for data in loader:\n",
    "        adj = to_dense_adj(data.edge_index, data.batch)\n",
    "        batched_x = pad_features(data)\n",
    "        \n",
    "        optimizer.zero_grad()\n",
    "\n",
    "        out, l, e = model(batched_x, adj)\n",
    "        \n",
    "        loss = criterion(out, data.y) + l + e\n",
    "        loss.backward()\n",
    "        optimizer.step()\n",
    "        total_loss += loss.item()\n",
    "\n",
    "    return total_loss / len(loader)"
   ]
  },
  {
   "cell_type": "code",
   "execution_count": 20,
   "metadata": {},
   "outputs": [],
   "source": [
    "def test(model, loader, criterion):\n",
    "    model.eval()\n",
    "    total_loss = 0\n",
    "    correct = 0\n",
    "\n",
    "    with torch.no_grad():\n",
    "        for data in loader:\n",
    "            adj = to_dense_adj(data.edge_index, data.batch)\n",
    "            batched_x = pad_features(data)\n",
    "            out, _, _ = model(batched_x, adj, data.batch)\n",
    "            loss = criterion(out, data.y)\n",
    "            total_loss += loss.item()\n",
    "            pred = out.max(dim=1)[1]\n",
    "            correct += pred.eq(data.y).sum().item()\n",
    "\n",
    "    return total_loss / len(loader), correct / len(loader.dataset)"
   ]
  },
  {
   "cell_type": "code",
   "execution_count": 21,
   "metadata": {},
   "outputs": [],
   "source": [
    "model = DiffPoolGNN(dataset.num_features, dataset.num_classes)  \n",
    "\n",
    "lr = 0.001\n",
    "optimizer = torch.optim.Adam(model.parameters(), lr=lr)\n",
    "criterion = torch.nn.CrossEntropyLoss()"
   ]
  },
  {
   "cell_type": "code",
   "execution_count": 22,
   "metadata": {},
   "outputs": [
    {
     "name": "stdout",
     "output_type": "stream",
     "text": [
      "Epoch 1, Train Loss: 3.4477, Test Loss: 0.6251, Test Acc: 0.6601\n",
      "Epoch 2, Train Loss: 3.4003, Test Loss: 0.6063, Test Acc: 0.6624\n",
      "Epoch 3, Train Loss: 3.3839, Test Loss: 0.5778, Test Acc: 0.6901\n",
      "Epoch 4, Train Loss: 3.3674, Test Loss: 0.5664, Test Acc: 0.6912\n",
      "Epoch 5, Train Loss: 3.3629, Test Loss: 0.5666, Test Acc: 0.6982\n",
      "Epoch 6, Train Loss: 3.3541, Test Loss: 0.6160, Test Acc: 0.6855\n",
      "Epoch 7, Train Loss: 3.3411, Test Loss: 0.5599, Test Acc: 0.6947\n",
      "Epoch 8, Train Loss: 3.3430, Test Loss: 0.5461, Test Acc: 0.7235\n",
      "Epoch 9, Train Loss: 3.3335, Test Loss: 0.5487, Test Acc: 0.7085\n",
      "Epoch 10, Train Loss: 3.3259, Test Loss: 0.5358, Test Acc: 0.7235\n",
      "Epoch 11, Train Loss: 3.3250, Test Loss: 0.5872, Test Acc: 0.6947\n",
      "Epoch 12, Train Loss: 3.3157, Test Loss: 0.5866, Test Acc: 0.7016\n",
      "Epoch 13, Train Loss: 3.3205, Test Loss: 0.5376, Test Acc: 0.7224\n",
      "Epoch 14, Train Loss: 3.3103, Test Loss: 0.5392, Test Acc: 0.7189\n",
      "Epoch 15, Train Loss: 3.3053, Test Loss: 0.5557, Test Acc: 0.7166\n",
      "Epoch 16, Train Loss: 3.3000, Test Loss: 0.5339, Test Acc: 0.7408\n",
      "Epoch 17, Train Loss: 3.3023, Test Loss: 0.5289, Test Acc: 0.7454\n",
      "Epoch 18, Train Loss: 3.2931, Test Loss: 0.5389, Test Acc: 0.7097\n",
      "Epoch 19, Train Loss: 3.2906, Test Loss: 0.5319, Test Acc: 0.7419\n",
      "Epoch 20, Train Loss: 3.2887, Test Loss: 0.5547, Test Acc: 0.7189\n",
      "Epoch 21, Train Loss: 3.2901, Test Loss: 0.5324, Test Acc: 0.7350\n",
      "Epoch 22, Train Loss: 3.2853, Test Loss: 0.5313, Test Acc: 0.7327\n",
      "Epoch 23, Train Loss: 3.2804, Test Loss: 0.5222, Test Acc: 0.7408\n",
      "Epoch 24, Train Loss: 3.2771, Test Loss: 0.5231, Test Acc: 0.7362\n",
      "Epoch 25, Train Loss: 3.2786, Test Loss: 0.5367, Test Acc: 0.7316\n",
      "Epoch 26, Train Loss: 3.2741, Test Loss: 0.5190, Test Acc: 0.7362\n",
      "Epoch 27, Train Loss: 3.2778, Test Loss: 0.5110, Test Acc: 0.7488\n",
      "Epoch 28, Train Loss: 3.2736, Test Loss: 0.5641, Test Acc: 0.7143\n",
      "Epoch 29, Train Loss: 3.2704, Test Loss: 0.5216, Test Acc: 0.7454\n",
      "Epoch 30, Train Loss: 3.2694, Test Loss: 0.5193, Test Acc: 0.7581\n",
      "Epoch 31, Train Loss: 3.2703, Test Loss: 0.5170, Test Acc: 0.7477\n",
      "Epoch 32, Train Loss: 3.2655, Test Loss: 0.5267, Test Acc: 0.7488\n",
      "Epoch 33, Train Loss: 3.2627, Test Loss: 0.5247, Test Acc: 0.7373\n",
      "Epoch 34, Train Loss: 3.2637, Test Loss: 0.5195, Test Acc: 0.7581\n",
      "Epoch 35, Train Loss: 3.2636, Test Loss: 0.5024, Test Acc: 0.7523\n",
      "Epoch 36, Train Loss: 3.2548, Test Loss: 0.5167, Test Acc: 0.7523\n",
      "Epoch 37, Train Loss: 3.2568, Test Loss: 0.5156, Test Acc: 0.7523\n",
      "Epoch 38, Train Loss: 3.2594, Test Loss: 0.5294, Test Acc: 0.7419\n",
      "Epoch 39, Train Loss: 3.2571, Test Loss: 0.5154, Test Acc: 0.7569\n",
      "Epoch 40, Train Loss: 3.2519, Test Loss: 0.5133, Test Acc: 0.7535\n",
      "Epoch 41, Train Loss: 3.2562, Test Loss: 0.5154, Test Acc: 0.7627\n",
      "Epoch 42, Train Loss: 3.2494, Test Loss: 0.5147, Test Acc: 0.7661\n",
      "Epoch 43, Train Loss: 3.2586, Test Loss: 0.5047, Test Acc: 0.7638\n",
      "Epoch 44, Train Loss: 3.2450, Test Loss: 0.5014, Test Acc: 0.7650\n",
      "Epoch 45, Train Loss: 3.2508, Test Loss: 0.5018, Test Acc: 0.7650\n",
      "Epoch 46, Train Loss: 3.2475, Test Loss: 0.5223, Test Acc: 0.7673\n",
      "Epoch 47, Train Loss: 3.2486, Test Loss: 0.5079, Test Acc: 0.7638\n",
      "Epoch 48, Train Loss: 3.2459, Test Loss: 0.5176, Test Acc: 0.7558\n",
      "Epoch 49, Train Loss: 3.2423, Test Loss: 0.5118, Test Acc: 0.7604\n",
      "Epoch 50, Train Loss: 3.2423, Test Loss: 0.4992, Test Acc: 0.7684\n",
      "Epoch 51, Train Loss: 3.2450, Test Loss: 0.5156, Test Acc: 0.7512\n",
      "Epoch 52, Train Loss: 3.2443, Test Loss: 0.5130, Test Acc: 0.7488\n",
      "Epoch 53, Train Loss: 3.2443, Test Loss: 0.5423, Test Acc: 0.7385\n",
      "Epoch 54, Train Loss: 3.2422, Test Loss: 0.5021, Test Acc: 0.7696\n",
      "Epoch 55, Train Loss: 3.2405, Test Loss: 0.5097, Test Acc: 0.7719\n",
      "Epoch 56, Train Loss: 3.2349, Test Loss: 0.5799, Test Acc: 0.7247\n",
      "Epoch 57, Train Loss: 3.2487, Test Loss: 0.5207, Test Acc: 0.7523\n",
      "Epoch 58, Train Loss: 3.2364, Test Loss: 0.5283, Test Acc: 0.7431\n",
      "Epoch 59, Train Loss: 3.2377, Test Loss: 0.5427, Test Acc: 0.7500\n",
      "Epoch 60, Train Loss: 3.2354, Test Loss: 0.5102, Test Acc: 0.7604\n",
      "Epoch 61, Train Loss: 3.2359, Test Loss: 0.5070, Test Acc: 0.7569\n",
      "Epoch 62, Train Loss: 3.2352, Test Loss: 0.5085, Test Acc: 0.7661\n",
      "Epoch 63, Train Loss: 3.2329, Test Loss: 0.5113, Test Acc: 0.7569\n",
      "Epoch 64, Train Loss: 3.2401, Test Loss: 0.4970, Test Acc: 0.7753\n",
      "Epoch 65, Train Loss: 3.2334, Test Loss: 0.5151, Test Acc: 0.7638\n",
      "Epoch 66, Train Loss: 3.2309, Test Loss: 0.5021, Test Acc: 0.7730\n",
      "Epoch 67, Train Loss: 3.2320, Test Loss: 0.4966, Test Acc: 0.7823\n",
      "Epoch 68, Train Loss: 3.2343, Test Loss: 0.4945, Test Acc: 0.7719\n",
      "Epoch 69, Train Loss: 3.2258, Test Loss: 0.5211, Test Acc: 0.7592\n",
      "Epoch 70, Train Loss: 3.2291, Test Loss: 0.4904, Test Acc: 0.7730\n",
      "Epoch 71, Train Loss: 3.2263, Test Loss: 0.5103, Test Acc: 0.7742\n",
      "Epoch 72, Train Loss: 3.2316, Test Loss: 0.4942, Test Acc: 0.7696\n",
      "Epoch 73, Train Loss: 3.2304, Test Loss: 0.4927, Test Acc: 0.7776\n",
      "Epoch 74, Train Loss: 3.2284, Test Loss: 0.5137, Test Acc: 0.7546\n",
      "Epoch 75, Train Loss: 3.2243, Test Loss: 0.5124, Test Acc: 0.7673\n",
      "Epoch 76, Train Loss: 3.2208, Test Loss: 0.5169, Test Acc: 0.7604\n",
      "Epoch 77, Train Loss: 3.2272, Test Loss: 0.5128, Test Acc: 0.7650\n",
      "Epoch 78, Train Loss: 3.2225, Test Loss: 0.5068, Test Acc: 0.7707\n",
      "Epoch 79, Train Loss: 3.2262, Test Loss: 0.5001, Test Acc: 0.7776\n",
      "Epoch 80, Train Loss: 3.2211, Test Loss: 0.4986, Test Acc: 0.7707\n",
      "Epoch 81, Train Loss: 3.2270, Test Loss: 0.5532, Test Acc: 0.7200\n",
      "Epoch 82, Train Loss: 3.2197, Test Loss: 0.5115, Test Acc: 0.7638\n",
      "Epoch 83, Train Loss: 3.2183, Test Loss: 0.4930, Test Acc: 0.7765\n",
      "Epoch 84, Train Loss: 3.2166, Test Loss: 0.4877, Test Acc: 0.7707\n",
      "Epoch 85, Train Loss: 3.2270, Test Loss: 0.5076, Test Acc: 0.7730\n",
      "Epoch 86, Train Loss: 3.2257, Test Loss: 0.5018, Test Acc: 0.7673\n",
      "Epoch 87, Train Loss: 3.2216, Test Loss: 0.4915, Test Acc: 0.7742\n",
      "Epoch 88, Train Loss: 3.2152, Test Loss: 0.5209, Test Acc: 0.7627\n",
      "Epoch 89, Train Loss: 3.2159, Test Loss: 0.5193, Test Acc: 0.7650\n",
      "Epoch 90, Train Loss: 3.2144, Test Loss: 0.5291, Test Acc: 0.7638\n",
      "Epoch 91, Train Loss: 3.2226, Test Loss: 0.4933, Test Acc: 0.7707\n",
      "Epoch 92, Train Loss: 3.2129, Test Loss: 0.5080, Test Acc: 0.7696\n",
      "Epoch 93, Train Loss: 3.2167, Test Loss: 0.5262, Test Acc: 0.7569\n",
      "Epoch 94, Train Loss: 3.2134, Test Loss: 0.4811, Test Acc: 0.7788\n",
      "Epoch 95, Train Loss: 3.2101, Test Loss: 0.5475, Test Acc: 0.7408\n",
      "Epoch 96, Train Loss: 3.2110, Test Loss: 0.4955, Test Acc: 0.7661\n",
      "Epoch 97, Train Loss: 3.2104, Test Loss: 0.5031, Test Acc: 0.7604\n",
      "Epoch 98, Train Loss: 3.2114, Test Loss: 0.4997, Test Acc: 0.7719\n",
      "Epoch 99, Train Loss: 3.2041, Test Loss: 0.5063, Test Acc: 0.7581\n",
      "Epoch 100, Train Loss: 3.2085, Test Loss: 0.4836, Test Acc: 0.7811\n"
     ]
    },
    {
     "data": {
      "image/png": "[encoded data removed]",
      "text/plain": [
       "<Figure size 720x432 with 1 Axes>"
      ]
     },
     "metadata": {
      "needs_background": "light"
     },
     "output_type": "display_data"
    }
   ],
   "source": [
    "epochs = 100\n",
    "train_losses = []\n",
    "test_losses = []\n",
    "\n",
    "for epoch in range(epochs):\n",
    "    train_loss = train(model, train_loader, optimizer, criterion)\n",
    "    test_loss, test_acc = test(model, test_loader, criterion)\n",
    "\n",
    "    train_losses.append(train_loss)\n",
    "    test_losses.append(test_loss)\n",
    "\n",
    "    print(f'Epoch {epoch+1}, Train Loss: {train_loss:.4f}, Test Loss: {test_loss:.4f}, Test Acc: {test_acc:.4f}')\n",
    "\n",
    "\n",
    "plt.figure(figsize=(10, 6))\n",
    "plt.plot(train_losses, label='Train Loss')\n",
    "plt.plot(test_losses, label='Test Loss')\n",
    "plt.xlabel('Epoch')\n",
    "plt.ylabel('Loss')\n",
    "plt.title('Train vs Test Loss')\n",
    "plt.legend()\n",
    "plt.show()"
   ]
  },
  {
   "cell_type": "code",
   "execution_count": null,
   "metadata": {},
   "outputs": [],
   "source": []
  }
 ],
 "metadata": {
  "kernelspec": {
   "display_name": "base",
   "language": "python",
   "name": "python3"
  },
  "language_info": {
   "codemirror_mode": {
    "name": "ipython",
    "version": 3
   },
   "file_extension": ".py",
   "mimetype": "text/x-python",
   "name": "python",
   "nbconvert_exporter": "python",
   "pygments_lexer": "ipython3",
   "version": "3.7.6"
  }
 },
 "nbformat": 4,
 "nbformat_minor": 2
}
