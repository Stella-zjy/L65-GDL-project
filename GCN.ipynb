{
 "cells": [
  {
   "cell_type": "code",
   "execution_count": 1,
   "metadata": {},
   "outputs": [],
   "source": [
    "# ! pip install torch_geometric"
   ]
  },
  {
   "cell_type": "code",
   "execution_count": null,
   "outputs": [],
   "source": [
    "import os\n",
    "import torch\n",
    "import torch.nn.functional as F\n",
    "import torch_geometric.transforms as T\n",
    "from torch_geometric.nn import DenseGCNConv, dense_diff_pool\n",
    "import numpy as np\n",
    "import pandas as pd\n",
    "import matplotlib.pyplot as plt\n",
    "import pickle\n",
    "import networkx as nx\n",
    "import sys\n",
    "\n",
    "from torch_geometric.datasets import Entities, TUDataset\n",
    "from torch_geometric.loader import DataLoader\n",
    "from torch_geometric.utils import to_dense_adj\n",
    "\n",
    "\n",
    "from utils import *\n",
    "from model import *"
   ],
   "metadata": {
    "collapsed": false,
    "pycharm": {
     "name": "#%%\n"
    }
   }
  },
  {
   "cell_type": "code",
   "execution_count": null,
   "outputs": [],
   "source": [
    "# Load Dataset\n",
    "# dataset = Entities(root='data/Entities', name='MUTAG')\n",
    "# dataset = TUDataset(root='data/TUDataset', name='MUTAG')\n",
    "dataset = TUDataset(root='data/TUDataset', name='Mutagenicity')\n",
    "\n",
    "# max_nodes = 150\n",
    "# class MyFilter(object):\n",
    "#     def __call__(self, data):\n",
    "#         return data.num_nodes <= max_nodes\n",
    "# dataset = TUDataset(root='data/TUDataset', name='Mutagenicity', transform=T.ToDense(max_nodes), pre_filter=MyFilter())\n",
    "\n",
    "print()\n",
    "print(f'Dataset: {dataset}:')\n",
    "print('====================')\n",
    "print(f'Number of graphs: {len(dataset)}')\n",
    "print(f'Number of features: {dataset.num_features}')\n",
    "print(f'Number of classes: {dataset.num_classes}')\n",
    "\n",
    "# data = dataset[0]  # Get the first graph object.\n",
    "\n",
    "# print()\n",
    "# print(data)\n",
    "# print('=============================================================')\n",
    "\n",
    "# Gather some statistics about the first graph.\n",
    "# print(f'Number of nodes: {data.num_nodes}')\n",
    "# print(f'Number of edges: {data.num_edges}')\n",
    "# print(f'Average node degree: {data.num_edges / data.num_nodes:.2f}')\n",
    "# print(f'Has isolated nodes: {data.has_isolated_nodes()}')\n",
    "# print(f'Has self-loops: {data.has_self_loops()}')\n",
    "# print(f'Is undirected: {data.is_undirected()}')"
   ],
   "metadata": {
    "collapsed": false,
    "pycharm": {
     "name": "#%%\n"
    }
   }
  },
  {
   "cell_type": "code",
   "execution_count": null,
   "outputs": [],
   "source": [
    "torch.manual_seed(12345)\n",
    "\n",
    "# Train test split\n",
    "train_split = 0.8\n",
    "batch_size = 16\n",
    "train_loader, test_loader, visual_data_loader = prepare_data(dataset, train_split, batch_size)"
   ],
   "metadata": {
    "collapsed": false,
    "pycharm": {
     "name": "#%%\n"
    }
   }
  },
  {
   "cell_type": "code",
   "execution_count": null,
   "outputs": [],
   "source": [
    "def train(model, loader, optimizer, criterion):\n",
    "    model.train()\n",
    "    total_loss = 0\n",
    "\n",
    "    for data in loader:\n",
    "        adj = to_dense_adj(data.edge_index, data.batch)\n",
    "        batched_x = pad_features(data)\n",
    "        \n",
    "        optimizer.zero_grad()\n",
    "\n",
    "        out, l, e, _, _, _, _, _, _ = model(batched_x, adj)\n",
    "        \n",
    "        loss = criterion(out, data.y) + l + e\n",
    "        loss.backward()\n",
    "        optimizer.step()\n",
    "        total_loss += loss.item()\n",
    "\n",
    "    return total_loss / len(loader)"
   ],
   "metadata": {
    "collapsed": false,
    "pycharm": {
     "name": "#%%\n"
    }
   }
  },
  {
   "cell_type": "code",
   "execution_count": null,
   "outputs": [],
   "source": [
    "def test(model, loader, criterion):\n",
    "    model.eval()\n",
    "    total_loss = 0\n",
    "    correct = 0\n",
    "\n",
    "    with torch.no_grad():\n",
    "        for data in loader:\n",
    "            adj = to_dense_adj(data.edge_index, data.batch)\n",
    "            batched_x = pad_features(data)\n",
    "\n",
    "            out, _, _, _, _, _, _, _, _= model(batched_x, adj, data.batch)\n",
    "            \n",
    "            loss = criterion(out, data.y)\n",
    "            total_loss += loss.item()\n",
    "            pred = out.max(dim=1)[1]\n",
    "            correct += pred.eq(data.y).sum().item()\n",
    "\n",
    "    return total_loss / len(loader), correct / len(loader.dataset)"
   ],
   "metadata": {
    "collapsed": false,
    "pycharm": {
     "name": "#%%\n"
    }
   }
  },
  {
   "cell_type": "code",
   "execution_count": null,
   "outputs": [],
   "source": [
    "model = DiffPoolGNN(dataset.num_features, dataset.num_classes)  \n",
    "# model = Mutag_GCN_DiffPool8(dataset.num_features, dataset.num_classes)  \n",
    "\n",
    "\n",
    "lr = 0.001\n",
    "optimizer = torch.optim.Adam(model.parameters(), lr=lr)\n",
    "criterion = torch.nn.CrossEntropyLoss()"
   ],
   "metadata": {
    "collapsed": false,
    "pycharm": {
     "name": "#%%\n"
    }
   }
  },
  {
   "cell_type": "code",
   "execution_count": null,
   "outputs": [],
   "source": [
    "epochs = 100\n",
    "train_losses = []\n",
    "test_losses = []\n",
    "\n",
    "for epoch in range(epochs):\n",
    "    train_loss = train(model, train_loader, optimizer, criterion)\n",
    "    test_loss, test_acc = test(model, test_loader, criterion)\n",
    "\n",
    "    train_losses.append(train_loss)\n",
    "    test_losses.append(test_loss)\n",
    "\n",
    "    print(f'Epoch {epoch+1}, Train Loss: {train_loss:.4f}, Test Loss: {test_loss:.4f}, Test Acc: {test_acc:.4f}')\n",
    "\n",
    "\n",
    "plt.figure(figsize=(10, 6))\n",
    "plt.plot(train_losses, label='Train Loss')\n",
    "plt.plot(test_losses, label='Test Loss')\n",
    "plt.xlabel('Epoch')\n",
    "plt.ylabel('Loss')\n",
    "plt.title('Train vs Test Loss')\n",
    "plt.legend()\n",
    "plt.show()"
   ],
   "metadata": {
    "collapsed": false,
    "pycharm": {
     "name": "#%%\n"
    }
   }
  },
  {
   "cell_type": "code",
   "execution_count": null,
   "outputs": [],
   "source": [
    "torch.save(model.state_dict(), 'model_state_dict_new.pth')"
   ],
   "metadata": {
    "collapsed": false,
    "pycharm": {
     "name": "#%%\n"
    }
   }
  },
  {
   "cell_type": "markdown",
   "source": [
    "### Load trained model"
   ],
   "metadata": {
    "collapsed": false,
    "pycharm": {
     "name": "#%% md\n"
    }
   }
  },
  {
   "cell_type": "code",
   "execution_count": null,
   "outputs": [],
   "source": [
    "model0 = DiffPoolGNN(dataset.num_features, dataset.num_classes)    # Initialize model\n",
    "model0.load_state_dict(torch.load('model_state_dict_new.pth'))\n",
    "model0.eval()  # Set the model to inference mode\n"
   ],
   "metadata": {
    "collapsed": false,
    "pycharm": {
     "name": "#%%\n"
    }
   }
  },
  {
   "cell_type": "markdown",
   "source": [
    "## DiffPool Visualization"
   ],
   "metadata": {
    "collapsed": false,
    "pycharm": {
     "name": "#%% md\n"
    }
   }
  },
  {
   "cell_type": "code",
   "execution_count": null,
   "outputs": [],
   "source": [
    "from sklearn.decomposition import PCA\n",
    "import matplotlib.pyplot as plt\n",
    "from sklearn.manifold import TSNE\n",
    "import umap\n",
    "from sklearn.cluster import KMeans\n",
    "\n",
    "\n",
    "# Get the actual number of nodes in each graph of the visual_data_batch\n",
    "# len(graph_node) = batch size of visual data loader\n",
    "def real_graph_node(visual_data_batch):\n",
    "    graph_nodes = []\n",
    "    batch_size = len(visual_data_batch)\n",
    "    for i in range(batch_size):\n",
    "        graph_nodes.append(visual_data_batch[i].num_nodes)\n",
    "    return graph_nodes\n",
    "\n",
    "\n",
    "def kmeans_clustering(features, k):\n",
    "    # Apply K-means clustering\n",
    "    kmeans = KMeans(n_clusters=k)\n",
    "    kmeans.fit(features)\n",
    "    # Get cluster labels and centroids\n",
    "    labels = kmeans.labels_\n",
    "    centroids = kmeans.cluster_centers_\n",
    "    return labels, centroids\n",
    "\n",
    "\n",
    "# Dimension Reduction for 2D visualization\n",
    "def dimension_reduction(features_np, DR_method):\n",
    "    if DR_method == 'PCA':\n",
    "        pca = PCA(n_components=2)\n",
    "        features_DR = pca.fit_transform(features_np)\n",
    "    elif DR_method == 'TSNE':\n",
    "        tsne = TSNE(n_components=2)\n",
    "        features_DR = tsne.fit_transform(features_np)\n",
    "    elif DR_method == 'UMAP':\n",
    "        reducer = umap.UMAP(n_components=2)\n",
    "        features_DR = reducer.fit_transform(features_np)\n",
    "    return features_DR"
   ],
   "metadata": {
    "collapsed": false,
    "pycharm": {
     "name": "#%%\n"
    }
   }
  },
  {
   "cell_type": "code",
   "execution_count": null,
   "outputs": [],
   "source": [
    "\n",
    "# Visualization of the activation space before the first DiffPool layer\n",
    "# Coloring according to K-means clustering of the raw activation space\n",
    "def before_first_diffpool_plot(activation_space_before, graph_nodes, DR_method, k):\n",
    "    \"\"\"\n",
    "    Input:\n",
    "        activation_space_before: B * N * num_hidden_units\n",
    "        graph_nodes: len() = B, containing the real number of nodes in each graph\n",
    "        DR_method: 'PCA' or 'TSNE' or 'UMAP'\n",
    "        k: cluster number for K-means clustering\n",
    "    \"\"\"\n",
    "    relevant_features = []\n",
    "    for idx, real_node_number in enumerate(graph_nodes):\n",
    "        # Extract the features for the relevant nodes in the graph\n",
    "        relevant_features.append(activation_space_before[idx, :real_node_number, :])\n",
    "    # Concatenate all the relevant features along the first dimension\n",
    "    features = torch.cat(relevant_features, dim=0)\n",
    "\n",
    "    # Convert to numpy for dimensionality reduction\n",
    "    features_np = features.detach().cpu().numpy()\n",
    "\n",
    "    # K-means clustering of the raw activation space to get clustering labels for each node\n",
    "    labels, centroids = kmeans_clustering(features_np, k)\n",
    "\n",
    "    # Apply Dimension Reduction\n",
    "    features_DR = dimension_reduction(features_np, DR_method)\n",
    "\n",
    "\n",
    "    # ========================== Plotting Activation Space ==========================\n",
    "\n",
    "    # Generate a colormap with distinct colors\n",
    "    colors = plt.cm.jet(np.linspace(0, 1, k))\n",
    "\n",
    "    # plt.figure(figsize=(8, 6))\n",
    "\n",
    "    for i, label in enumerate(range(k)):\n",
    "        idx = labels == label\n",
    "        plt.scatter(features_DR[idx, 0], features_DR[idx, 1], color=colors[i], label=f'Cluster {label}')\n",
    "\n",
    "    plt.xlabel(f'{DR_method} Component 1')\n",
    "    plt.ylabel(f'{DR_method} Component 2')\n",
    "    plt.title(f'{DR_method} Visualization of Activation Space before First DiffPool')\n",
    "    # Place the legend outside the plot\n",
    "    plt.legend(loc='upper left', bbox_to_anchor=(1, 1))\n",
    "    # Adjust subplot parameters to give some space for the legend\n",
    "    plt.subplots_adjust(right=0.75)\n",
    "    plt.show()            \n",
    "        \n",
    "    return labels, centroids"
   ],
   "metadata": {
    "collapsed": false,
    "pycharm": {
     "name": "#%%\n"
    }
   }
  },
  {
   "cell_type": "code",
   "execution_count": null,
   "outputs": [],
   "source": [
    "\n",
    "def after_first_diffpool_plot(activation_space_after, graph_nodes, cluster_assignments, DR_method, k):\n",
    "\n",
    "    batch_size, num_dp_clusters, _ = activation_space_after.shape\n",
    "\n",
    "    relevant_cluster_assignments = []\n",
    "    for idx, real_node_number in enumerate(graph_nodes):\n",
    "        # Extract diffpooled cluster labels for each graph\n",
    "        relevant_cluster_assignments.append(torch.unique(cluster_assignments[idx, :real_node_number]))\n",
    "\n",
    "\n",
    "    relevant_features = []\n",
    "    info_graph_node = []\n",
    "    for b in range(batch_size):\n",
    "        for c in relevant_cluster_assignments[b]:\n",
    "            node_indexes = torch.where(cluster_assignments[b, :graph_nodes[b]] == c)[0]\n",
    "            relevant_features.append(activation_space_after[b, int(c), :])\n",
    "            info_graph_node.append([b, node_indexes.tolist()])\n",
    "    \n",
    "    \n",
    "    # Stack the tensors\n",
    "    features = torch.stack(relevant_features)\n",
    "    # Convert to numpy array\n",
    "    features_np = features.detach().cpu().numpy()\n",
    "\n",
    "    # K-means clustering of the raw activation space to get clustering labels for each node\n",
    "    labels_km, centroids = kmeans_clustering(features_np, k)\n",
    "\n",
    "    # Apply Dimension Reduction\n",
    "    features_DR = dimension_reduction(features_np, DR_method)\n",
    "\n",
    "\n",
    "    # Deal with diffpooled cluster labels\n",
    "    labels_dp = torch.cat(relevant_cluster_assignments).detach().cpu().numpy()\n",
    "    \n",
    "\n",
    "    # ========================== Plotting Activation Space (no clustering) ==========================\n",
    "    plt.figure()\n",
    "    plt.scatter(features_DR[:, 0], features_DR[:, 1])\n",
    "    plt.xlabel(f'{DR_method} Component 1')\n",
    "    plt.ylabel(f'{DR_method} Component 2')\n",
    "    plt.title(f'{DR_method} Visualization of Activation Space after First DiffPool')\n",
    "    plt.show()            \n",
    "\n",
    "    # ========================== Plotting Activation Space (K-Means colored) ==========================\n",
    "    \n",
    "    # Generate a colormap with distinct colors according to k-means clusters\n",
    "    colors_km = plt.cm.jet(np.linspace(0, 1, k))\n",
    "\n",
    "    plt.figure()\n",
    "    for i, label in enumerate(range(k)):\n",
    "        idx = labels_km == label\n",
    "        plt.scatter(features_DR[idx, 0], features_DR[idx, 1], color=colors_km[i], label=f'Cluster {label}')\n",
    "\n",
    "    plt.xlabel(f'{DR_method} Component 1')\n",
    "    plt.ylabel(f'{DR_method} Component 2')\n",
    "    plt.title(f'{DR_method} Visualization of Activation Space after First DiffPool (K-Means colored)')\n",
    "    # Place the legend outside the plot\n",
    "    plt.legend(loc='upper left', bbox_to_anchor=(1, 1))\n",
    "    # Adjust subplot parameters to give some space for the legend\n",
    "    plt.subplots_adjust(right=0.75)\n",
    "    plt.show()   \n",
    "\n",
    "    # ========================== Plotting Activation Space (Diff-Pooling colored) ==========================  \n",
    "           \n",
    "    # Generate a colormap with distinct colors according to diffpool clusters\n",
    "    colors_dp = plt.cm.jet(np.linspace(0, 1, num_dp_clusters)) \n",
    "\n",
    "    plt.figure()\n",
    "    for i, label in enumerate(range(num_dp_clusters)):\n",
    "        idx = labels_dp == label\n",
    "        plt.scatter(features_DR[idx, 0], features_DR[idx, 1], color=colors_dp[i], label=f'Cluster {label}')\n",
    "\n",
    "    plt.xlabel(f'{DR_method} Component 1')\n",
    "    plt.ylabel(f'{DR_method} Component 2')\n",
    "    plt.title(f'{DR_method} Visualization of Activation Space after First DiffPool (DiffPool colored)')\n",
    "    # Place the legend outside the plot\n",
    "    plt.legend(loc='upper left', bbox_to_anchor=(1, 1))\n",
    "    # Adjust subplot parameters to give some space for the legend\n",
    "    plt.subplots_adjust(right=0.75)\n",
    "    plt.show()  \n",
    "\n",
    "    return labels_km, centroids, colors_km, colors_dp, labels_dp, features_np, info_graph_node"
   ],
   "metadata": {
    "collapsed": false,
    "pycharm": {
     "name": "#%%\n"
    }
   }
  },
  {
   "cell_type": "code",
   "execution_count": null,
   "outputs": [],
   "source": [
    "for data in visual_data_loader:\n",
    "    \n",
    "    adj = to_dense_adj(data.edge_index, data.batch)\n",
    "    batched_x = pad_features(data)\n",
    "    \n",
    "    graph_nodes = real_graph_node(data)\n",
    "    \n",
    "    out, _, _, out1, cluster_assignments1, out2, cluster_assignments2, out1before, out2before = model0(batched_x, adj, data.batch)\n",
    "    \n",
    "    break\n",
    "\n",
    "\n",
    "labels, centroids = before_first_diffpool_plot(out1before, graph_nodes, 'TSNE', 30)\n",
    "\n",
    "labels_km, centroids, colors_km, colors_dp ,labels_dp, features_np, info_graph_node = after_first_diffpool_plot(out1, graph_nodes, cluster_assignments1, 'TSNE', 20)"
   ],
   "metadata": {
    "collapsed": false,
    "pycharm": {
     "name": "#%%\n"
    }
   }
  },
  {
   "cell_type": "code",
   "execution_count": null,
   "metadata": {
    "pycharm": {
     "name": "#%%\n"
    }
   },
   "outputs": [],
   "source": [
    "top_closest_indices =find_top_closest(features_np,labels_km ,centroids,5) # finding the top 5 feature indexes that are closest to the center of each k-means cluster."
   ]
  },
  {
   "cell_type": "code",
   "execution_count": null,
   "metadata": {
    "pycharm": {
     "name": "#%%\n"
    }
   },
   "outputs": [],
   "source": [
    "visualize_graphs_with_pooled_nodes_concept(data, top_closest_indices, info_graph_node, labels, graph_nodes,'k-means' , 'TSNE','Layer after diffpool','40', '8') # perform the visualization of the pooled concepts of original graph"
   ]
  },
  {
   "cell_type": "code",
   "execution_count": null,
   "metadata": {},
   "outputs": [],
   "source": []
  },
  {
   "cell_type": "markdown",
   "metadata": {},
   "source": [
    "### Some Graph Ploting Trial (Please Ignore)"
   ]
  },
  {
   "cell_type": "code",
   "execution_count": null,
   "metadata": {},
   "outputs": [
    {
     "data": {
      "image/png": "[encoded data removed]",
      "text/plain": [
       "<Figure size 640x480 with 1 Axes>"
      ]
     },
     "metadata": {},
     "output_type": "display_data"
    },
    {
     "data": {
      "image/png": "[encoded data removed]",
      "text/plain": [
       "<Figure size 640x480 with 1 Axes>"
      ]
     },
     "metadata": {},
     "output_type": "display_data"
    }
   ],
   "source": [
    "import networkx as nx\n",
    "import matplotlib.pyplot as plt\n",
    "import numpy as np\n",
    "\n",
    "\n",
    "def two_hop_neighbor(adj_matrix, target_node):\n",
    "    \"\"\"\n",
    "    Input:\n",
    "        adj_matrix\n",
    "        target_node: target node idx for which we want to find the 2-hop neighborhood\n",
    "    \"\"\"\n",
    "    # Create a graph\n",
    "    G = nx.Graph()\n",
    "\n",
    "    # Add edges based on the adjacency matrix\n",
    "    n = len(adj_matrix)\n",
    "    for i in range(n):\n",
    "        for j in range(n):\n",
    "            if adj_matrix[i][j] == 1:\n",
    "                G.add_edge(i, j)\n",
    "\n",
    "    # Draw the graph\n",
    "    nx.draw(G, with_labels=True, node_color='lightblue', edge_color='gray')\n",
    "    plt.show()\n",
    "\n",
    "    \n",
    "    # Find the 1-hop neighbors\n",
    "    one_hop_neighbors = set(nx.neighbors(G, target_node))\n",
    "\n",
    "    # Find the 2-hop neighbors\n",
    "    two_hop_neighbors = set()\n",
    "    for neighbor in one_hop_neighbors:\n",
    "        two_hop_neighbors |= set(nx.neighbors(G, neighbor))\n",
    "\n",
    "    # Combine 1-hop and 2-hop neighbors, and include the target node itself\n",
    "    neighborhood = one_hop_neighbors | two_hop_neighbors | {target_node}\n",
    "\n",
    "    # Create the subgraph\n",
    "    subgraph = G.subgraph(neighborhood)\n",
    "\n",
    "    # Draw the subgraph\n",
    "    pos = nx.spring_layout(subgraph)  # positions for all nodes\n",
    "    nx.draw(subgraph, pos, with_labels=True, node_color='lightblue', edge_color='gray')\n",
    "\n",
    "    # Highlight the target node\n",
    "    nx.draw_networkx_nodes(subgraph, pos, nodelist=[target_node], node_color='red')\n",
    "\n",
    "    plt.show()\n",
    "\n",
    "\n",
    "# Example Adjacency Matrix\n",
    "adj_matrix = np.array([[0, 1, 0, 0, 0, 1],[1, 0, 1, 0, 0, 0],[0, 1, 0, 1, 0, 0],[0, 0, 1, 0, 1, 0],[0, 0, 0, 1, 0, 1], [1, 0, 0, 0, 1, 0]])\n",
    "two_hop_neighbor(adj_matrix, 1)\n"
   ]
  },
  {
   "cell_type": "code",
   "execution_count": null,
   "metadata": {},
   "outputs": [],
   "source": []
  }
 ],
 "metadata": {
  "kernelspec": {
   "display_name": "base",
   "language": "python",
   "name": "python3"
  },
  "language_info": {
   "codemirror_mode": {
    "name": "ipython",
    "version": 3
   },
   "file_extension": ".py",
   "mimetype": "text/x-python",
   "name": "python",
   "nbconvert_exporter": "python",
   "pygments_lexer": "ipython3",
   "version": "3.8.18"
  }
 },
 "nbformat": 4,
 "nbformat_minor": 2
}