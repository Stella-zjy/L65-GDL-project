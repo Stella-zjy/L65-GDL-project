{
 "cells": [
  {
   "cell_type": "code",
   "execution_count": 1,
   "metadata": {},
   "outputs": [],
   "source": [
    "# ! pip install torch_geometric"
   ]
  },
  {
   "cell_type": "code",
   "execution_count": 2,
   "metadata": {},
   "outputs": [],
   "source": [
    "import os\n",
    "import torch\n",
    "import torch.nn.functional as F\n",
    "from torch_geometric.nn import DenseGCNConv, dense_diff_pool\n",
    "import numpy as np\n",
    "import pandas as pd\n",
    "import matplotlib.pyplot as plt\n",
    "import pickle\n",
    "import networkx as nx\n",
    "import sys\n",
    "\n",
    "from torch_geometric.datasets import Entities, TUDataset\n",
    "from torch_geometric.loader import DataLoader\n",
    "from torch_geometric.utils import to_dense_adj\n",
    "\n",
    "\n",
    "from utils import *\n",
    "from model import *"
   ]
  },
  {
   "cell_type": "code",
   "execution_count": 3,
   "metadata": {},
   "outputs": [
    {
     "name": "stdout",
     "output_type": "stream",
     "text": [
      "\n",
      "Dataset: Mutagenicity(4337):\n",
      "====================\n",
      "Number of graphs: 4337\n",
      "Number of features: 14\n",
      "Number of classes: 2\n",
      "\n",
      "Data(edge_index=[2, 32], x=[16, 14], edge_attr=[32, 3], y=[1])\n",
      "=============================================================\n",
      "Number of nodes: 16\n",
      "Number of edges: 32\n",
      "Average node degree: 2.00\n",
      "Has isolated nodes: False\n",
      "Has self-loops: False\n",
      "Is undirected: True\n"
     ]
    }
   ],
   "source": [
    "# Load Dataset\n",
    "# dataset = Entities(root='data/Entities', name='MUTAG')\n",
    "# dataset = TUDataset(root='data/TUDataset', name='MUTAG')\n",
    "dataset = TUDataset(root='data/TUDataset', name='Mutagenicity')\n",
    "\n",
    "print()\n",
    "print(f'Dataset: {dataset}:')\n",
    "print('====================')\n",
    "print(f'Number of graphs: {len(dataset)}')\n",
    "print(f'Number of features: {dataset.num_features}')\n",
    "print(f'Number of classes: {dataset.num_classes}')\n",
    "\n",
    "data = dataset[0]  # Get the first graph object.\n",
    "\n",
    "print()\n",
    "print(data)\n",
    "print('=============================================================')\n",
    "\n",
    "# Gather some statistics about the first graph.\n",
    "print(f'Number of nodes: {data.num_nodes}')\n",
    "print(f'Number of edges: {data.num_edges}')\n",
    "print(f'Average node degree: {data.num_edges / data.num_nodes:.2f}')\n",
    "print(f'Has isolated nodes: {data.has_isolated_nodes()}')\n",
    "print(f'Has self-loops: {data.has_self_loops()}')\n",
    "print(f'Is undirected: {data.is_undirected()}')"
   ]
  },
  {
   "cell_type": "code",
   "execution_count": 4,
   "metadata": {},
   "outputs": [
    {
     "name": "stdout",
     "output_type": "stream",
     "text": [
      "\n",
      "Class split - Training 0: 1901 1: 1568, Test 0: 500 1: 368\n"
     ]
    }
   ],
   "source": [
    "torch.manual_seed(12345)\n",
    "\n",
    "# Train test split\n",
    "train_split = 0.8\n",
    "batch_size = 16\n",
    "train_loader, test_loader = prepare_data(dataset, train_split, batch_size)"
   ]
  },
  {
   "cell_type": "code",
   "execution_count": 5,
   "metadata": {},
   "outputs": [],
   "source": [
    "def train(model, loader, optimizer, criterion):\n",
    "    model.train()\n",
    "    total_loss = 0\n",
    "\n",
    "    for data in loader:\n",
    "        adj = to_dense_adj(data.edge_index, data.batch)\n",
    "        batched_x = pad_features(data)\n",
    "        \n",
    "        optimizer.zero_grad()\n",
    "\n",
    "        out, l, e = model(batched_x, adj)\n",
    "        \n",
    "        loss = criterion(out, data.y) + l + e\n",
    "        loss.backward()\n",
    "        optimizer.step()\n",
    "        total_loss += loss.item()\n",
    "\n",
    "    return total_loss / len(loader)"
   ]
  },
  {
   "cell_type": "code",
   "execution_count": 6,
   "metadata": {},
   "outputs": [],
   "source": [
    "def test(model, loader, criterion):\n",
    "    model.eval()\n",
    "    total_loss = 0\n",
    "    correct = 0\n",
    "\n",
    "    with torch.no_grad():\n",
    "        for data in loader:\n",
    "            adj = to_dense_adj(data.edge_index, data.batch)\n",
    "            batched_x = pad_features(data)\n",
    "            out, _, _ = model(batched_x, adj, data.batch)\n",
    "            loss = criterion(out, data.y)\n",
    "            total_loss += loss.item()\n",
    "            pred = out.max(dim=1)[1]\n",
    "            correct += pred.eq(data.y).sum().item()\n",
    "\n",
    "    return total_loss / len(loader), correct / len(loader.dataset)"
   ]
  },
  {
   "cell_type": "code",
   "execution_count": 7,
   "metadata": {},
   "outputs": [],
   "source": [
    "model = DiffPoolGNN(dataset.num_features, dataset.num_classes)  \n",
    "\n",
    "lr = 0.001\n",
    "optimizer = torch.optim.Adam(model.parameters(), lr=lr)\n",
    "criterion = torch.nn.CrossEntropyLoss()"
   ]
  },
  {
   "cell_type": "code",
   "execution_count": 8,
   "metadata": {},
   "outputs": [
    {
     "name": "stdout",
     "output_type": "stream",
     "text": [
      "Epoch 1, Train Loss: 3.4360, Test Loss: 0.5982, Test Acc: 0.6705\n",
      "Epoch 2, Train Loss: 3.3605, Test Loss: 0.5444, Test Acc: 0.7177\n",
      "Epoch 3, Train Loss: 3.3472, Test Loss: 0.5720, Test Acc: 0.6809\n",
      "Epoch 4, Train Loss: 3.3241, Test Loss: 0.5635, Test Acc: 0.7005\n",
      "Epoch 5, Train Loss: 3.3071, Test Loss: 0.5411, Test Acc: 0.7385\n",
      "Epoch 6, Train Loss: 3.2947, Test Loss: 0.5296, Test Acc: 0.7431\n",
      "Epoch 7, Train Loss: 3.2931, Test Loss: 0.5276, Test Acc: 0.7327\n",
      "Epoch 8, Train Loss: 3.2825, Test Loss: 0.5126, Test Acc: 0.7581\n",
      "Epoch 9, Train Loss: 3.2745, Test Loss: 0.5111, Test Acc: 0.7535\n",
      "Epoch 10, Train Loss: 3.2718, Test Loss: 0.5077, Test Acc: 0.7488\n",
      "Epoch 11, Train Loss: 3.2644, Test Loss: 0.5176, Test Acc: 0.7558\n",
      "Epoch 12, Train Loss: 3.2613, Test Loss: 0.5096, Test Acc: 0.7627\n",
      "Epoch 13, Train Loss: 3.2586, Test Loss: 0.5047, Test Acc: 0.7535\n",
      "Epoch 14, Train Loss: 3.2539, Test Loss: 0.4932, Test Acc: 0.7604\n",
      "Epoch 15, Train Loss: 3.2493, Test Loss: 0.5148, Test Acc: 0.7546\n",
      "Epoch 16, Train Loss: 3.2446, Test Loss: 0.5758, Test Acc: 0.7154\n",
      "Epoch 17, Train Loss: 3.2344, Test Loss: 0.5214, Test Acc: 0.7615\n",
      "Epoch 18, Train Loss: 3.2498, Test Loss: 0.4857, Test Acc: 0.7765\n",
      "Epoch 19, Train Loss: 3.2266, Test Loss: 0.4881, Test Acc: 0.7753\n",
      "Epoch 20, Train Loss: 3.2255, Test Loss: 0.5045, Test Acc: 0.7650\n",
      "Epoch 21, Train Loss: 3.2163, Test Loss: 0.4877, Test Acc: 0.7753\n",
      "Epoch 22, Train Loss: 3.2172, Test Loss: 0.4863, Test Acc: 0.7800\n",
      "Epoch 23, Train Loss: 3.2140, Test Loss: 0.5045, Test Acc: 0.7765\n",
      "Epoch 24, Train Loss: 3.2116, Test Loss: 0.4942, Test Acc: 0.7650\n",
      "Epoch 25, Train Loss: 3.2042, Test Loss: 0.4718, Test Acc: 0.7926\n",
      "Epoch 26, Train Loss: 3.2056, Test Loss: 0.4753, Test Acc: 0.7823\n",
      "Epoch 27, Train Loss: 3.1969, Test Loss: 0.4833, Test Acc: 0.7846\n",
      "Epoch 28, Train Loss: 3.1878, Test Loss: 0.4643, Test Acc: 0.7834\n",
      "Epoch 29, Train Loss: 3.1877, Test Loss: 0.5151, Test Acc: 0.7753\n",
      "Epoch 30, Train Loss: 3.1823, Test Loss: 0.4867, Test Acc: 0.7753\n",
      "Epoch 31, Train Loss: 3.1769, Test Loss: 0.4523, Test Acc: 0.8030\n",
      "Epoch 32, Train Loss: 3.1726, Test Loss: 0.4658, Test Acc: 0.7892\n",
      "Epoch 33, Train Loss: 3.1664, Test Loss: 0.4746, Test Acc: 0.7776\n",
      "Epoch 34, Train Loss: 3.1651, Test Loss: 0.4647, Test Acc: 0.7800\n",
      "Epoch 35, Train Loss: 3.1606, Test Loss: 0.4792, Test Acc: 0.7892\n",
      "Epoch 36, Train Loss: 3.1621, Test Loss: 0.4763, Test Acc: 0.7857\n",
      "Epoch 37, Train Loss: 3.1506, Test Loss: 0.4486, Test Acc: 0.7995\n",
      "Epoch 38, Train Loss: 3.1435, Test Loss: 0.4570, Test Acc: 0.7903\n",
      "Epoch 39, Train Loss: 3.1351, Test Loss: 0.4510, Test Acc: 0.7995\n",
      "Epoch 40, Train Loss: 3.1392, Test Loss: 0.4874, Test Acc: 0.7938\n",
      "Epoch 41, Train Loss: 3.1364, Test Loss: 0.4818, Test Acc: 0.7892\n",
      "Epoch 42, Train Loss: 3.1299, Test Loss: 0.4746, Test Acc: 0.7869\n",
      "Epoch 43, Train Loss: 3.1237, Test Loss: 0.4526, Test Acc: 0.7961\n",
      "Epoch 44, Train Loss: 3.1165, Test Loss: 0.4711, Test Acc: 0.7995\n",
      "Epoch 45, Train Loss: 3.1149, Test Loss: 0.4841, Test Acc: 0.7995\n",
      "Epoch 46, Train Loss: 3.1195, Test Loss: 0.4694, Test Acc: 0.7880\n",
      "Epoch 47, Train Loss: 3.1130, Test Loss: 0.4532, Test Acc: 0.7995\n",
      "Epoch 48, Train Loss: 3.1064, Test Loss: 0.5005, Test Acc: 0.7892\n",
      "Epoch 49, Train Loss: 3.0996, Test Loss: 0.4941, Test Acc: 0.7984\n",
      "Epoch 50, Train Loss: 3.0989, Test Loss: 0.5227, Test Acc: 0.8007\n"
     ]
    },
    {
     "data": {
      "image/png": "[encoded data removed]",
      "text/plain": [
       "<Figure size 720x432 with 1 Axes>"
      ]
     },
     "metadata": {
      "needs_background": "light"
     },
     "output_type": "display_data"
    }
   ],
   "source": [
    "epochs = 50\n",
    "train_losses = []\n",
    "test_losses = []\n",
    "\n",
    "for epoch in range(epochs):\n",
    "    train_loss = train(model, train_loader, optimizer, criterion)\n",
    "    test_loss, test_acc = test(model, test_loader, criterion)\n",
    "\n",
    "    train_losses.append(train_loss)\n",
    "    test_losses.append(test_loss)\n",
    "\n",
    "    print(f'Epoch {epoch+1}, Train Loss: {train_loss:.4f}, Test Loss: {test_loss:.4f}, Test Acc: {test_acc:.4f}')\n",
    "\n",
    "\n",
    "plt.figure(figsize=(10, 6))\n",
    "plt.plot(train_losses, label='Train Loss')\n",
    "plt.plot(test_losses, label='Test Loss')\n",
    "plt.xlabel('Epoch')\n",
    "plt.ylabel('Loss')\n",
    "plt.title('Train vs Test Loss')\n",
    "plt.legend()\n",
    "plt.show()"
   ]
  },
  {
   "cell_type": "code",
   "execution_count": null,
   "metadata": {},
   "outputs": [],
   "source": []
  }
 ],
 "metadata": {
  "kernelspec": {
   "display_name": "base",
   "language": "python",
   "name": "python3"
  },
  "language_info": {
   "codemirror_mode": {
    "name": "ipython",
    "version": 3
   },
   "file_extension": ".py",
   "mimetype": "text/x-python",
   "name": "python",
   "nbconvert_exporter": "python",
   "pygments_lexer": "ipython3",
   "version": "3.7.6"
  }
 },
 "nbformat": 4,
 "nbformat_minor": 2
}
