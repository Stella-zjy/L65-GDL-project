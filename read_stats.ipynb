{
 "cells": [
  {
   "cell_type": "code",
   "execution_count": 1,
   "metadata": {},
   "outputs": [],
   "source": [
    "import numpy as np\n",
    "import statistics\n",
    "import json"
   ]
  },
  {
   "cell_type": "code",
   "execution_count": 11,
   "metadata": {},
   "outputs": [
    {
     "data": {
      "text/plain": [
       "{'model_hidden_unit_64_diffpool_clusters_12_2': [0.8087557603686637,\n",
       "  0.01013126417686092],\n",
       " 'model_hidden_unit_40_diffpool_clusters_8_4': [0.8076036866359446,\n",
       "  0.013236319462069181],\n",
       " 'model_hidden_unit_40_diffpool_clusters_12_4': [0.8001152073732719,\n",
       "  0.02148136139930414],\n",
       " 'model_hidden_unit_40_diffpool_clusters_12_2': [0.7995391705069124,\n",
       "  0.01144367467415614],\n",
       " 'model_hidden_unit_64_diffpool_clusters_12_4': [0.7891705069124424,\n",
       "  0.028062712605906488],\n",
       " 'model_hidden_unit_64_diffpool_clusters_8_4': [0.7880184331797235,\n",
       "  0.03108464876320746],\n",
       " 'model_hidden_unit_40_diffpool_clusters_8_2': [0.7793778801843317,\n",
       "  0.034963112685468936],\n",
       " 'model_hidden_unit_64_diffpool_clusters_8_2': [0.7707373271889402,\n",
       "  0.06109250499337722]}"
      ]
     },
     "execution_count": 11,
     "metadata": {},
     "output_type": "execute_result"
    }
   ],
   "source": [
    "file_path = 'model_stats.json'\n",
    "with open(file_path, 'r') as file:\n",
    "    model_stats = json.load(file)\n",
    "\n",
    "avg_acc = dict()\n",
    "for data in model_stats.items():\n",
    "    data[1].remove(min(data[1]))\n",
    "    avg_acc[data[0]] = sum(data[1]) / 4\n",
    "\n",
    "sorted_avg_acc = {k: [v] for k, v in sorted(avg_acc.items(), key=lambda item: item[1], reverse=True)}\n",
    "for k in sorted_avg_acc:\n",
    "    sorted_avg_acc[k].append(statistics.stdev(sorted(model_stats[k])[:4]))\n",
    "\n",
    "sorted_avg_acc"
   ]
  },
  {
   "cell_type": "code",
   "execution_count": null,
   "metadata": {},
   "outputs": [],
   "source": []
  }
 ],
 "metadata": {
  "kernelspec": {
   "display_name": "gdl",
   "language": "python",
   "name": "python3"
  },
  "language_info": {
   "codemirror_mode": {
    "name": "ipython",
    "version": 3
   },
   "file_extension": ".py",
   "mimetype": "text/x-python",
   "name": "python",
   "nbconvert_exporter": "python",
   "pygments_lexer": "ipython3",
   "version": "3.8.18"
  }
 },
 "nbformat": 4,
 "nbformat_minor": 2
}
