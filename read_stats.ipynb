{
 "cells": [
  {
   "cell_type": "code",
   "execution_count": 11,
   "metadata": {},
   "outputs": [],
   "source": [
    "import numpy as np\n",
    "import statistics\n",
    "import json"
   ]
  },
  {
   "cell_type": "code",
   "execution_count": 13,
   "metadata": {},
   "outputs": [
    {
     "data": {
      "text/plain": [
       "{'model_hidden_unit_40_diffpool_clusters_12_4': [0.8133640552995391,\n",
       "  0.008621330384271762],\n",
       " 'model_hidden_unit_40_diffpool_clusters_8_4': [0.7986175115207373,\n",
       "  0.008864232286484468],\n",
       " 'model_hidden_unit_32_diffpool_clusters_8_4': [0.7898617511520738,\n",
       "  0.005964137836656579],\n",
       " 'model_hidden_unit_32_diffpool_clusters_12_4': [0.7861751152073732,\n",
       "  0.017578093200701046],\n",
       " 'model_hidden_unit_40_diffpool_clusters_8_2': [0.7811059907834101,\n",
       "  0.009216589861751154],\n",
       " 'model_hidden_unit_40_diffpool_clusters_12_2': [0.7741935483870968,\n",
       "  0.06236114563467447],\n",
       " 'model_hidden_unit_32_diffpool_clusters_8_2': [0.7668202764976959,\n",
       "  0.044123070330935224],\n",
       " 'model_hidden_unit_32_diffpool_clusters_12_2': [0.7622119815668202,\n",
       "  0.09724485066198313]}"
      ]
     },
     "execution_count": 13,
     "metadata": {},
     "output_type": "execute_result"
    }
   ],
   "source": [
    "file_path = 'model_stats.json'\n",
    "with open(file_path, 'r') as file:\n",
    "    model_stats = json.load(file)\n",
    "\n",
    "avg_acc = dict()\n",
    "for data in model_stats.items():\n",
    "    avg_acc[data[0]] = sum(data[1]) / 5\n",
    "\n",
    "sorted_avg_acc = {k: [v] for k, v in sorted(avg_acc.items(), key=lambda item: item[1], reverse=True)}\n",
    "for k in sorted_avg_acc:\n",
    "    sorted_avg_acc[k].append(statistics.stdev(model_stats[k]))\n",
    "\n",
    "sorted_avg_acc"
   ]
  },
  {
   "cell_type": "code",
   "execution_count": null,
   "metadata": {},
   "outputs": [],
   "source": []
  }
 ],
 "metadata": {
  "kernelspec": {
   "display_name": "gdl",
   "language": "python",
   "name": "python3"
  },
  "language_info": {
   "codemirror_mode": {
    "name": "ipython",
    "version": 3
   },
   "file_extension": ".py",
   "mimetype": "text/x-python",
   "name": "python",
   "nbconvert_exporter": "python",
   "pygments_lexer": "ipython3",
   "version": "3.8.18"
  }
 },
 "nbformat": 4,
 "nbformat_minor": 2
}
